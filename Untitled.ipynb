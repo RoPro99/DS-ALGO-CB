{
 "cells": [
  {
   "cell_type": "code",
   "execution_count": 1,
   "id": "2eaec57a",
   "metadata": {},
   "outputs": [],
   "source": [
    "def get_neighbors(v):\n",
    " if v in Graph_nodes:\n",
    "  return Graph_nodes[v]\n",
    " else:\n",
    "   return None"
   ]
  },
  {
   "cell_type": "code",
   "execution_count": null,
   "id": "54d65cc2",
   "metadata": {},
   "outputs": [],
   "source": [
    "def heuristic(n):\n",
    " H_dist = {\n",
    "'A': 11,\n",
    "'B': 6,\n",
    "'C': 99,\n",
    "'D': 1,\n",
    "'E': 7,\n",
    "'G': 0,\n",
    " }\n",
    "  return H_dist[n]"
   ]
  },
  {
   "cell_type": "code",
   "execution_count": 2,
   "id": "ba908eb8",
   "metadata": {},
   "outputs": [],
   "source": [
    "def aStarAlgo(start_node, stop_node):\n",
    " open_set = set(start_node)\n",
    " closed_set = set()\n",
    " g = {} #store distance from starting node\n",
    " parents = {}# parents contains an adjacency map of all nodes\n",
    "#ditance of starting node from itself is zero\n",
    " g[start_node] = 0\n",
    "#start_node is root node i.e it has no parent nodes\n",
    "#so start_node is set to its own parent node\n",
    " parents[start_node] = start_node"
   ]
  },
  {
   "cell_type": "code",
   "execution_count": 3,
   "id": "49c55351",
   "metadata": {},
   "outputs": [
    {
     "ename": "NameError",
     "evalue": "name 'open_set' is not defined",
     "output_type": "error",
     "traceback": [
      "\u001b[0;31m---------------------------------------------------------------------------\u001b[0m",
      "\u001b[0;31mNameError\u001b[0m                                 Traceback (most recent call last)",
      "\u001b[0;32m/tmp/ipykernel_79537/966798615.py\u001b[0m in \u001b[0;36m<module>\u001b[0;34m\u001b[0m\n\u001b[0;32m----> 1\u001b[0;31m \u001b[0;32mwhile\u001b[0m \u001b[0mlen\u001b[0m\u001b[0;34m(\u001b[0m\u001b[0mopen_set\u001b[0m\u001b[0;34m)\u001b[0m \u001b[0;34m>\u001b[0m \u001b[0;36m0\u001b[0m\u001b[0;34m:\u001b[0m\u001b[0;34m\u001b[0m\u001b[0;34m\u001b[0m\u001b[0m\n\u001b[0m\u001b[1;32m      2\u001b[0m     \u001b[0mn\u001b[0m \u001b[0;34m=\u001b[0m \u001b[0;32mNone\u001b[0m\u001b[0;34m\u001b[0m\u001b[0;34m\u001b[0m\u001b[0m\n",
      "\u001b[0;31mNameError\u001b[0m: name 'open_set' is not defined"
     ]
    }
   ],
   "source": [
    "while len(open_set) > 0:\n",
    "    n = None"
   ]
  },
  {
   "cell_type": "code",
   "execution_count": null,
   "id": "0fbda315",
   "metadata": {},
   "outputs": [],
   "source": []
  }
 ],
 "metadata": {
  "kernelspec": {
   "display_name": "Python 3 (ipykernel)",
   "language": "python",
   "name": "python3"
  },
  "language_info": {
   "codemirror_mode": {
    "name": "ipython",
    "version": 3
   },
   "file_extension": ".py",
   "mimetype": "text/x-python",
   "name": "python",
   "nbconvert_exporter": "python",
   "pygments_lexer": "ipython3",
   "version": "3.8.10"
  }
 },
 "nbformat": 4,
 "nbformat_minor": 5
}
